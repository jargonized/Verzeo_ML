{
  "nbformat": 4,
  "nbformat_minor": 0,
  "metadata": {
    "kernelspec": {
      "display_name": "Python 3",
      "language": "python",
      "name": "python3"
    },
    "language_info": {
      "codemirror_mode": {
        "name": "ipython",
        "version": 3
      },
      "file_extension": ".py",
      "mimetype": "text/x-python",
      "name": "python",
      "nbconvert_exporter": "python",
      "pygments_lexer": "ipython3",
      "version": "3.7.4"
    },
    "colab": {
      "name": "ML-MAJOR-JAN-GOOGLE CLASSROOM NAME(a).ipynb",
      "provenance": []
    }
  },
  "cells": [
    {
      "cell_type": "code",
      "metadata": {
        "id": "Ke2ep5C7FsDX"
      },
      "source": [
        "import numpy as np\n",
        "import pandas as pd\n",
        "import matplotlib.pyplot as plt\n",
        "import seaborn as sns\n",
        "sns.set()"
      ],
      "execution_count": null,
      "outputs": []
    },
    {
      "cell_type": "code",
      "metadata": {
        "id": "pdC-BpwlFsDn"
      },
      "source": [
        "#Loading 1st data set\n",
        "df1 = pd.read_csv('cust_transaction_details.csv')"
      ],
      "execution_count": null,
      "outputs": []
    },
    {
      "cell_type": "code",
      "metadata": {
        "id": "SnXQ1w4jFsDr",
        "outputId": "22279826-8a69-484f-fa74-b72e437d32b4"
      },
      "source": [
        "df1.columns"
      ],
      "execution_count": null,
      "outputs": [
        {
          "data": {
            "text/plain": [
              "Index(['Unnamed: 0', 'customerEmail', 'transactionId', 'orderId',\n",
              "       'paymentMethodId', 'paymentMethodRegistrationFailure',\n",
              "       'paymentMethodType', 'paymentMethodProvider', 'transactionAmount',\n",
              "       'transactionFailed', 'orderState'],\n",
              "      dtype='object')"
            ]
          },
          "execution_count": 5,
          "metadata": {},
          "output_type": "execute_result"
        }
      ]
    },
    {
      "cell_type": "code",
      "metadata": {
        "id": "XY3cL6j3FsD0",
        "outputId": "2389ca0b-668b-4302-b58a-1e55ea2499ff"
      },
      "source": [
        "#Checking for null values in 1st data set\n",
        "df1.isnull().sum()"
      ],
      "execution_count": null,
      "outputs": [
        {
          "data": {
            "text/plain": [
              "Unnamed: 0                          0\n",
              "customerEmail                       0\n",
              "transactionId                       0\n",
              "orderId                             0\n",
              "paymentMethodId                     0\n",
              "paymentMethodRegistrationFailure    0\n",
              "paymentMethodType                   0\n",
              "paymentMethodProvider               0\n",
              "transactionAmount                   0\n",
              "transactionFailed                   0\n",
              "orderState                          0\n",
              "dtype: int64"
            ]
          },
          "execution_count": 8,
          "metadata": {},
          "output_type": "execute_result"
        }
      ]
    },
    {
      "cell_type": "code",
      "metadata": {
        "id": "_yd7K5IuFsD3"
      },
      "source": [
        "#Loading 2nd dataset\n",
        "df2=pd.read_csv('Customer_DF.csv')"
      ],
      "execution_count": null,
      "outputs": []
    },
    {
      "cell_type": "code",
      "metadata": {
        "id": "8e5PTNF6FsD6",
        "outputId": "1199e68a-95d0-4b81-9e2a-7d3385903912"
      },
      "source": [
        "df2.columns"
      ],
      "execution_count": null,
      "outputs": [
        {
          "data": {
            "text/plain": [
              "Index(['Unnamed: 0', 'customerEmail', 'customerPhone', 'customerDevice',\n",
              "       'customerIPAddress', 'customerBillingAddress', 'No_Transactions',\n",
              "       'No_Orders', 'No_Payments', 'Fraud'],\n",
              "      dtype='object')"
            ]
          },
          "execution_count": 12,
          "metadata": {},
          "output_type": "execute_result"
        }
      ]
    },
    {
      "cell_type": "code",
      "metadata": {
        "id": "3gQZFasJFsD8",
        "outputId": "8fd670d7-4f19-4ee1-980b-0b14bf3d8c28"
      },
      "source": [
        "#Checking for null values\n",
        "df2.isnull().sum()"
      ],
      "execution_count": null,
      "outputs": [
        {
          "data": {
            "text/plain": [
              "Unnamed: 0                0\n",
              "customerEmail             0\n",
              "customerPhone             0\n",
              "customerDevice            0\n",
              "customerIPAddress         0\n",
              "customerBillingAddress    0\n",
              "No_Transactions           0\n",
              "No_Orders                 0\n",
              "No_Payments               0\n",
              "Fraud                     0\n",
              "dtype: int64"
            ]
          },
          "execution_count": 14,
          "metadata": {},
          "output_type": "execute_result"
        }
      ]
    },
    {
      "cell_type": "code",
      "metadata": {
        "id": "npLebITCFsEA",
        "outputId": "bf46cdb0-de77-46c1-d235-ad1ffe800105"
      },
      "source": [
        "df1['paymentMethodRegistrationFailure'].value_counts()"
      ],
      "execution_count": null,
      "outputs": [
        {
          "data": {
            "text/plain": [
              "0    541\n",
              "1     82\n",
              "Name: paymentMethodRegistrationFailure, dtype: int64"
            ]
          },
          "execution_count": 15,
          "metadata": {},
          "output_type": "execute_result"
        }
      ]
    },
    {
      "cell_type": "code",
      "metadata": {
        "id": "9muva42aFsED",
        "outputId": "7a7ff8e2-c3a5-4f76-c62d-2595c93e032c"
      },
      "source": [
        "sns.countplot(x='paymentMethodRegistrationFailure',data=df1,palette='rocket',)"
      ],
      "execution_count": null,
      "outputs": [
        {
          "data": {
            "text/plain": [
              "<matplotlib.axes._subplots.AxesSubplot at 0x1efb411f4c8>"
            ]
          },
          "execution_count": 28,
          "metadata": {},
          "output_type": "execute_result"
        },
        {
          "data": {
            "image/png": "[encoded data removed]",
            "text/plain": [
              "<Figure size 432x288 with 1 Axes>"
            ]
          },
          "metadata": {
            "needs_background": "light"
          },
          "output_type": "display_data"
        }
      ]
    },
    {
      "cell_type": "code",
      "metadata": {
        "id": "4M2VaH-xFsEI",
        "outputId": "3222b5c3-c904-489d-abc0-28a6097dc5cb"
      },
      "source": [
        "df1['paymentMethodType'].value_counts()"
      ],
      "execution_count": null,
      "outputs": [
        {
          "data": {
            "text/plain": [
              "card         479\n",
              "apple pay     49\n",
              "paypal        48\n",
              "bitcoin       47\n",
              "Name: paymentMethodType, dtype: int64"
            ]
          },
          "execution_count": 29,
          "metadata": {},
          "output_type": "execute_result"
        }
      ]
    },
    {
      "cell_type": "code",
      "metadata": {
        "id": "zACytiyCFsEL",
        "outputId": "76a468b7-db48-49dd-f1f7-a5bc35f0c5d7"
      },
      "source": [
        "sns.countplot(x='paymentMethodType',data=df1,palette='rocket')"
      ],
      "execution_count": null,
      "outputs": [
        {
          "data": {
            "text/plain": [
              "<matplotlib.axes._subplots.AxesSubplot at 0x1efb6345188>"
            ]
          },
          "execution_count": 31,
          "metadata": {},
          "output_type": "execute_result"
        },
        {
          "data": {
            "image/png": "[encoded data removed]",
            "text/plain": [
              "<Figure size 432x288 with 1 Axes>"
            ]
          },
          "metadata": {
            "needs_background": "light"
          },
          "output_type": "display_data"
        }
      ]
    },
    {
      "cell_type": "code",
      "metadata": {
        "id": "gnVig66MFsEO",
        "outputId": "fc8ef4f6-008c-4f1d-86d8-a8b1b3033219"
      },
      "source": [
        "df1['paymentMethodProvider'].value_counts()"
      ],
      "execution_count": null,
      "outputs": [
        {
          "data": {
            "text/plain": [
              "JCB 16 digit                   118\n",
              "VISA 16 digit                   96\n",
              "Maestro                         69\n",
              "Voyager                         61\n",
              "Diners Club / Carte Blanche     58\n",
              "VISA 13 digit                   58\n",
              "American Express                45\n",
              "JCB 15 digit                    45\n",
              "Discover                        41\n",
              "Mastercard                      32\n",
              "Name: paymentMethodProvider, dtype: int64"
            ]
          },
          "execution_count": 33,
          "metadata": {},
          "output_type": "execute_result"
        }
      ]
    },
    {
      "cell_type": "code",
      "metadata": {
        "id": "Bb12WbuBFsEQ",
        "outputId": "e282c86e-5a5f-4429-cc6b-132451f741a0"
      },
      "source": [
        "fig_dims = (20, 4)\n",
        "fig, ax = plt.subplots(figsize=fig_dims)\n",
        "sns.countplot(x='paymentMethodProvider',data=df1,palette='deep',ax=ax)"
      ],
      "execution_count": null,
      "outputs": [
        {
          "data": {
            "text/plain": [
              "<matplotlib.axes._subplots.AxesSubplot at 0x1efb69fcf88>"
            ]
          },
          "execution_count": 37,
          "metadata": {},
          "output_type": "execute_result"
        },
        {
          "data": {
            "image/png": "[encoded data removed]",
            "text/plain": [
              "<Figure size 1440x288 with 1 Axes>"
            ]
          },
          "metadata": {
            "needs_background": "light"
          },
          "output_type": "display_data"
        }
      ]
    },
    {
      "cell_type": "code",
      "metadata": {
        "id": "aNkFQL45FsET",
        "outputId": "9d7a73b8-b50a-43d6-9159-56bf59dd81d8"
      },
      "source": [
        "df1['transactionFailed'].value_counts()"
      ],
      "execution_count": null,
      "outputs": [
        {
          "data": {
            "text/plain": [
              "0    455\n",
              "1    168\n",
              "Name: transactionFailed, dtype: int64"
            ]
          },
          "execution_count": 38,
          "metadata": {},
          "output_type": "execute_result"
        }
      ]
    },
    {
      "cell_type": "code",
      "metadata": {
        "id": "PTavfc9mFsEW",
        "outputId": "a6997479-0485-4494-9672-ad7f854186a3"
      },
      "source": [
        "sns.countplot(x='transactionFailed',data=df1,palette='deep')"
      ],
      "execution_count": null,
      "outputs": [
        {
          "data": {
            "text/plain": [
              "<matplotlib.axes._subplots.AxesSubplot at 0x1efb7a44ac8>"
            ]
          },
          "execution_count": 39,
          "metadata": {},
          "output_type": "execute_result"
        },
        {
          "data": {
            "image/png": "[encoded data removed]",
            "text/plain": [
              "<Figure size 432x288 with 1 Axes>"
            ]
          },
          "metadata": {
            "needs_background": "light"
          },
          "output_type": "display_data"
        }
      ]
    },
    {
      "cell_type": "code",
      "metadata": {
        "id": "oopJLJW_FsEX",
        "outputId": "fd1d9b4c-b5c5-47b5-b835-93afe488f5b4"
      },
      "source": [
        "df1['orderState'].value_counts()"
      ],
      "execution_count": null,
      "outputs": [
        {
          "data": {
            "text/plain": [
              "fulfilled    516\n",
              "failed        63\n",
              "pending       44\n",
              "Name: orderState, dtype: int64"
            ]
          },
          "execution_count": 40,
          "metadata": {},
          "output_type": "execute_result"
        }
      ]
    },
    {
      "cell_type": "code",
      "metadata": {
        "id": "hfb1Z3t_FsEZ",
        "outputId": "875c5022-9d1d-45c7-a475-ddfabae3415f"
      },
      "source": [
        "sns.countplot(x='orderState',data=df1,palette='rocket')"
      ],
      "execution_count": null,
      "outputs": [
        {
          "data": {
            "text/plain": [
              "<matplotlib.axes._subplots.AxesSubplot at 0x1efb7a57288>"
            ]
          },
          "execution_count": 41,
          "metadata": {},
          "output_type": "execute_result"
        },
        {
          "data": {
            "image/png": "[encoded data removed]",
            "text/plain": [
              "<Figure size 432x288 with 1 Axes>"
            ]
          },
          "metadata": {
            "needs_background": "light"
          },
          "output_type": "display_data"
        }
      ]
    },
    {
      "cell_type": "code",
      "metadata": {
        "id": "COPglOBBFsEc",
        "outputId": "1486ad65-0453-4b23-b7a5-32fac597ce65"
      },
      "source": [
        "some_data = df2.groupby('customerEmail')['No_Transactions'].mean().reset_index()\n",
        "some_data"
      ],
      "execution_count": null,
      "outputs": [
        {
          "data": {
            "text/html": [
              "<div>\n",
              "<style scoped>\n",
              "    .dataframe tbody tr th:only-of-type {\n",
              "        vertical-align: middle;\n",
              "    }\n",
              "\n",
              "    .dataframe tbody tr th {\n",
              "        vertical-align: top;\n",
              "    }\n",
              "\n",
              "    .dataframe thead th {\n",
              "        text-align: right;\n",
              "    }\n",
              "</style>\n",
              "<table border=\"1\" class=\"dataframe\">\n",
              "  <thead>\n",
              "    <tr style=\"text-align: right;\">\n",
              "      <th></th>\n",
              "      <th>customerEmail</th>\n",
              "      <th>No_Transactions</th>\n",
              "    </tr>\n",
              "  </thead>\n",
              "  <tbody>\n",
              "    <tr>\n",
              "      <td>0</td>\n",
              "      <td>1yf0@jedyz63t</td>\n",
              "      <td>10.0</td>\n",
              "    </tr>\n",
              "    <tr>\n",
              "      <td>1</td>\n",
              "      <td>3fooiar@6eph</td>\n",
              "      <td>0.0</td>\n",
              "    </tr>\n",
              "    <tr>\n",
              "      <td>2</td>\n",
              "      <td>9es7t@u6n7x</td>\n",
              "      <td>2.0</td>\n",
              "    </tr>\n",
              "    <tr>\n",
              "      <td>3</td>\n",
              "      <td>abigail08@yahoo.com</td>\n",
              "      <td>5.0</td>\n",
              "    </tr>\n",
              "    <tr>\n",
              "      <td>4</td>\n",
              "      <td>alec27@bell.com</td>\n",
              "      <td>6.0</td>\n",
              "    </tr>\n",
              "    <tr>\n",
              "      <td>...</td>\n",
              "      <td>...</td>\n",
              "      <td>...</td>\n",
              "    </tr>\n",
              "    <tr>\n",
              "      <td>156</td>\n",
              "      <td>ybrown@gmail.com</td>\n",
              "      <td>5.0</td>\n",
              "    </tr>\n",
              "    <tr>\n",
              "      <td>157</td>\n",
              "      <td>ypruitt@hotmail.com</td>\n",
              "      <td>4.0</td>\n",
              "    </tr>\n",
              "    <tr>\n",
              "      <td>158</td>\n",
              "      <td>zbennett@frazier.com</td>\n",
              "      <td>0.0</td>\n",
              "    </tr>\n",
              "    <tr>\n",
              "      <td>159</td>\n",
              "      <td>zgraham@yahoo.com</td>\n",
              "      <td>5.0</td>\n",
              "    </tr>\n",
              "    <tr>\n",
              "      <td>160</td>\n",
              "      <td>zthomas@gmail.com</td>\n",
              "      <td>0.0</td>\n",
              "    </tr>\n",
              "  </tbody>\n",
              "</table>\n",
              "<p>161 rows × 2 columns</p>\n",
              "</div>"
            ],
            "text/plain": [
              "            customerEmail  No_Transactions\n",
              "0           1yf0@jedyz63t             10.0\n",
              "1            3fooiar@6eph              0.0\n",
              "2             9es7t@u6n7x              2.0\n",
              "3     abigail08@yahoo.com              5.0\n",
              "4         alec27@bell.com              6.0\n",
              "..                    ...              ...\n",
              "156      ybrown@gmail.com              5.0\n",
              "157   ypruitt@hotmail.com              4.0\n",
              "158  zbennett@frazier.com              0.0\n",
              "159     zgraham@yahoo.com              5.0\n",
              "160     zthomas@gmail.com              0.0\n",
              "\n",
              "[161 rows x 2 columns]"
            ]
          },
          "execution_count": 48,
          "metadata": {},
          "output_type": "execute_result"
        }
      ]
    },
    {
      "cell_type": "code",
      "metadata": {
        "id": "2dawFhPCFsEd",
        "outputId": "89558420-b25a-4c9b-f749-adfc49bf405b"
      },
      "source": [
        "df2['No_Transactions'].value_counts()"
      ],
      "execution_count": null,
      "outputs": [
        {
          "data": {
            "text/plain": [
              "5     29\n",
              "0     27\n",
              "6     19\n",
              "4     19\n",
              "2     18\n",
              "1     18\n",
              "3     16\n",
              "7     11\n",
              "8      5\n",
              "10     3\n",
              "15     1\n",
              "13     1\n",
              "11     1\n",
              "Name: No_Transactions, dtype: int64"
            ]
          },
          "execution_count": 50,
          "metadata": {},
          "output_type": "execute_result"
        }
      ]
    },
    {
      "cell_type": "code",
      "metadata": {
        "id": "sjd6SXjDFsEe"
      },
      "source": [
        ""
      ],
      "execution_count": null,
      "outputs": []
    }
  ]
}